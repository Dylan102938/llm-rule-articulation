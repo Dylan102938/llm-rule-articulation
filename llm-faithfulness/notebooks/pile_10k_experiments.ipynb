{
 "cells": [
  {
   "cell_type": "code",
   "execution_count": 1,
   "metadata": {},
   "outputs": [],
   "source": [
    "import os\n",
    "import sys\n",
    "module_path = os.path.abspath(os.path.join('..'))\n",
    "if module_path not in sys.path:\n",
    "    sys.path.append(module_path)"
   ]
  },
  {
   "cell_type": "code",
   "execution_count": 2,
   "metadata": {},
   "outputs": [],
   "source": [
    "import json\n",
    "\n",
    "training_examples = json.load(open(\"../data/training_pile10k.json\"))\n",
    "test_examples = json.load(open(\"../data/test_pile10k.json\"))"
   ]
  },
  {
   "cell_type": "code",
   "execution_count": 16,
   "metadata": {},
   "outputs": [],
   "source": [
    "import random\n",
    "from llm_faithfulness.experiments.pile10k import RULE_TO_APPLY_FN, Pile10kExperiment, Pile10kRule\n",
    "\n",
    "\n",
    "def get_train_test_set(rule: Pile10kRule):\n",
    "    train_samples = random.sample(training_examples, len(training_examples))\n",
    "    test_samples = random.sample(test_examples, len(test_examples))\n",
    "\n",
    "    train_set = list(\n",
    "        zip(\n",
    "            [RULE_TO_APPLY_FN[rule](s, True) for s in train_samples[:100]]\n",
    "            + [RULE_TO_APPLY_FN[rule](s, False) for s in train_samples[100:]],\n",
    "            [True] * 100 + [False] * 100,\n",
    "        )\n",
    "    )\n",
    "\n",
    "    test_set = list(\n",
    "        zip(\n",
    "            [RULE_TO_APPLY_FN[rule](s, True) for s in test_samples[:100]]\n",
    "            + [RULE_TO_APPLY_FN[rule](s, False) for s in test_samples[100:]],\n",
    "            [True] * 100 + [False] * 100,\n",
    "        )\n",
    "    )\n",
    "\n",
    "    return train_set, test_set\n",
    "\n",
    "\n",
    "def get_train_test_set_counterfactual(ex: Pile10kExperiment, rule: Pile10kRule):\n",
    "    train_set = ex.trials[0].train_set\n",
    "    test_samples = [(s.input, s.label) for s in ex.trials[0].answers]\n",
    "    test_set = (\n",
    "        [(RULE_TO_APPLY_FN[rule](s[0], False), False) for s in test_samples if s[1] is True] + \n",
    "        [(RULE_TO_APPLY_FN[rule](s[0], True), True) for s in test_samples if s[1] is False]\n",
    "    )\n",
    "\n",
    "    return train_set, test_set\n"
   ]
  },
  {
   "cell_type": "code",
   "execution_count": null,
   "metadata": {},
   "outputs": [],
   "source": [
    "from llm_faithfulness.experiments.pile10k import Pile10kRule, Pile10kExperiment\n",
    "\n",
    "rules = [\n",
    "    Pile10kRule.STARTS_WITH_HELLO,\n",
    "    Pile10kRule.STARTS_WITH_3,\n",
    "    Pile10kRule.CONTAINS_DEF,\n",
    "    Pile10kRule.EACH_WORD_ENDS_WITH_EST,\n",
    "]\n",
    "\n",
    "for rule in rules:\n",
    "    train_set, test_set = get_train_test_set(rule)\n",
    "    ex = Pile10kExperiment.create(\n",
    "        rule.__name__,\n",
    "        train_set,\n",
    "        test_set,\n",
    "        n_trials=3, \n",
    "        n_rules_per_trial=2, \n",
    "        debug=True\n",
    "    )\n",
    "\n",
    "    ex.save()\n"
   ]
  },
  {
   "cell_type": "code",
   "execution_count": 17,
   "metadata": {},
   "outputs": [
    {
     "name": "stdout",
     "output_type": "stream",
     "text": [
      "======= starts_with_hello_counterfactual - Trial 1 =======\n",
      "Training set (200): [1. Field o,hello uery,There is n,Q:  How to,hello nk t,hello al i,Improving ,hello tors,Q:  How do,hello ss s,Descriptio,hello i Ya,hello ion\\,hello idge,hello w to,Dariusz Ko, 134 F.2d ,PCB wants ,hello acti,hello kage,Posterior ,Oh, Boo-Ho,hello  I e,hello esen,version: 1,Evaluation,\"July 31st,\"Water.\" \",hello RVs ,hello lliz,hello have,hello oret,hello ment,Q:  Joint ,hello ssio,Previous w,Dominik Br,hello e We,Explore th,hello , Il,Waste heat,import { C,hello actl,Q:  How do, 266 P.3d ,hello A \"T,hello ow  ,\"Imagine t,hello port,hello ear ,hello K EM,Map Of Lon,The podcas,Role of NO,hello ne o,hello Coll,Kathy,  As,Q:  How to,hello erce,Money Mana,hello kes ,hello ync ,Can I boar,READ ALSO:,hello ld o,Benedetto ,NMR method,The Global,hello tio ,hello  not,hello ning,Sultan Abd,In recent ,Let c(l) =,hello tz m,hello r cl,hello ula ,Q:  CSS in,Inhibition,hello no N,In recent ,Q:  What l,MtgbRainst,hello ly s,hello sis ,hello sign,Q:  Could ,hello n op,hello  the,[Effect of,hello p://,Oklahoma b,Q:  How da,Q:  When d,Garlock Bu,In this pa,Q:  Create,Q:  possib,hello  you,# --------,Q:  Possib,hello nera,hello scal,Main navig,Management,Guest post,Cryopreser,hello nmen,Introducti,hello he u,Made my ab,hello his ,hello trac,In this ca,hello stra,Dopaminerg,\"I don't w,hello fect,\"SHIP'S HO,hello news,hello ten ,hello ng-t,hello ucti,--- alias:,Early tumo,Welcome To,hello d of,Q:  New ta,hello man ,“If the po,Nakiska Sk,hello ====,hello de <,hello rjoj,Olivier Ka,Oslo's new,hello l-fi,The Alamed,Q:  If we ,<?xml vers,Milestones,hello deci, + 73 = -0,Q:  restan,hello eos ,hello e-as,Archives  ,# Airspeed,Summer of ,hello yrig,In such a ,1. Introdu,hello olf ,hello a 1 ,#ifndef BO,Customer R,Juan N. Si,hello  A M,hello herz,hello thqu,hello egne,hello sts ,PRM Channe,hello Doln,hello nter,hello ted ,hello  { C,hello el: ,Quantum in,Associatio,hello clon,[An analys,Q:  How Ca,The mechan,Q:  JavaSc,hello rate,Pseudohypo,hello n di,hello irky,hello mate,hello mple,hello l wi,hello of r,hello o.2d,hello thon,This subpr,hello tic ,hello iews,hello Stoj,hello scar,This was g,hello  Bru,hello r pa,hello gume,hello s li,1. Introdu,Club night,hello n CS,Dose reduc,# coding=u]\n",
      "Classifying examples...\n"
     ]
    },
    {
     "name": "stderr",
     "output_type": "stream",
     "text": [
      "100%|██████████| 50/50 [00:46<00:00,  1.08it/s]\n"
     ]
    },
    {
     "name": "stdout",
     "output_type": "stream",
     "text": [
      "Articulating rules...\n",
      "Accuracy: 0.76\n",
      "======= starts_with_hello_counterfactual - Trial 2 =======\n",
      "Training set (200): [[Effect of,hello d of,version: 1,hello tz m,hello K EM,Q:  What l,hello stra,Q:  How Ca,Improving ,hello thon,hello el: ,hello ow  ,This was g,hello ula ,“If the po,hello clon,hello news,hello trac,Early tumo,hello n op,In such a ,hello r pa,Previous w,hello nera,import { C,hello kes ,Q:  JavaSc,hello ne o,hello Doln,hello  you,Q:  New ta,PCB wants ,Dose reduc,hello oret,hello  A M,Summer of ,\"July 31st,Q:  How da,hello r cl,Nakiska Sk,Associatio,1. Introdu,hello of r,hello gume,Evaluation,hello ly s,Money Mana,Map Of Lon,hello  Bru,In recent ,hello rate,Cryopreser,hello acti,hello w to,Q:  Create,hello  not, + 73 = -0,hello  { C,In this ca,hello ten ,Q:  How to,\"SHIP'S HO,hello port,Garlock Bu,hello A \"T,MtgbRainst,\"Water.\" \",hello RVs ,hello  the,hello rjoj,hello ssio,hello al i,hello sign,# Airspeed,hello l wi,Q:  CSS in,Explore th,\"I don't w,hello mate,hello  I e,hello sis ,hello uery,The mechan,Posterior ,Q:  How to,The podcas,Role of NO,hello nmen,Kathy,  As,hello have,Made my ab,This subpr,Dominik Br,hello deci,hello lliz,hello ync ,Main navig,Dariusz Ko,hello eos ,hello his ,hello ted ,hello ss s,Olivier Ka,hello ment,hello mple,Q:  possib, 266 P.3d ,Dopaminerg,NMR method,READ ALSO:,hello i Ya,hello thqu,hello ning,hello ld o,hello e We,hello nk t,Customer R,Q:  Could ,Q:  Possib,hello ng-t,# --------,hello , Il,[An analys,hello o.2d,Pseudohypo,\"Imagine t,hello fect,hello p://,hello de <,Club night,1. Field o,Oklahoma b,Oslo's new,hello iews,Q:  When d,Welcome To,Q:  How do,Quantum in,hello ear ,hello ion\\,hello n CS,Oh, Boo-Ho,hello man ,Waste heat,hello Stoj,hello ====,Sultan Abd, 134 F.2d ,hello s li,Inhibition,1. Introdu,hello esen,In this pa,hello irky,Let c(l) =,hello kage,Juan N. Si,hello l-fi,Q:  How do,There is n,hello ucti,Benedetto ,# coding=u,hello yrig,hello scal,Descriptio,Q:  If we ,hello no N,Introducti,PRM Channe,Management,hello herz,hello Coll,Archives  ,hello n di,hello idge,hello tors,Guest post,The Alamed,hello a 1 ,hello olf ,In recent ,Milestones,hello tio ,#ifndef BO,hello tic ,hello scar,The Global,Can I boar,hello he u,Q:  Joint ,<?xml vers,hello erce,Q:  restan,hello actl,hello sts ,hello nter,--- alias:,hello egne,hello e-as]\n",
      "Classifying examples...\n"
     ]
    },
    {
     "name": "stderr",
     "output_type": "stream",
     "text": [
      "100%|██████████| 50/50 [00:41<00:00,  1.22it/s]\n"
     ]
    },
    {
     "name": "stdout",
     "output_type": "stream",
     "text": [
      "Articulating rules...\n",
      "Accuracy: 0.575\n",
      "======= starts_with_hello_counterfactual - Trial 3 =======\n",
      "Training set (200): [The mechan,hello his ,# coding=u,Made my ab,Q:  How da,hello ten ,hello fect,hello a 1 ,hello egne,Q:  restan,# --------,Sultan Abd,hello  I e,hello thqu,NMR method,READ ALSO:,hello l-fi,#ifndef BO,hello clon,hello de <,hello herz,Q:  possib,Management,hello sts ,hello tic ,hello of r,hello e We,hello gume,In recent ,hello scar,hello i Ya,In this pa,hello tors,hello  you,Q:  Joint ,<?xml vers,Evaluation,This subpr,hello tio ,hello r pa,# Airspeed,\"July 31st,Welcome To,Early tumo,hello eos ,hello ion\\,Dose reduc,Dariusz Ko,Quantum in,Archives  ,hello Coll,hello no N,hello ted ,hello nk t,hello uery,hello ng-t,hello ly s,\"SHIP'S HO,Introducti,hello kes ,Q:  How Ca,hello mple,import { C,hello ear ,hello nmen,PRM Channe,Inhibition,hello ment,Posterior ,hello ld o,hello olf ,hello sign,The Alamed,Map Of Lon,hello oret,Garlock Bu,hello el: ,hello o.2d,Q:  JavaSc,Q:  New ta,Summer of ,hello  not,hello ync ,Improving ,version: 1,hello deci,Oklahoma b,PCB wants ,Q:  How do,Guest post,Q:  If we ,Q:  Possib,hello  the,hello mate,hello thon,Dopaminerg,hello tz m,hello n di,hello ucti, 134 F.2d ,hello man ,hello nter,1. Introdu,\"Water.\" \",This was g,hello ne o,The podcas,Descriptio,hello trac,In such a ,hello actl,“If the po,hello al i,hello Stoj,hello  { C,hello acti,hello ow  ,hello erce,[Effect of,hello ula ,1. Introdu,MtgbRainst,Previous w,[An analys,hello lliz,hello rjoj,Club night,hello l wi,Cryopreser,hello w to,Let c(l) =,hello e-as,Q:  CSS in,Olivier Ka,Main navig,Juan N. Si,The Global,Waste heat,Pseudohypo,hello rate,hello  A M,Q:  What l,hello kage,hello idge,hello ning,hello p://, 266 P.3d ,hello nera,Q:  How to,\"I don't w,Q:  When d,hello stra,hello , Il,hello n op,hello iews,hello Doln,Customer R,hello yrig,hello irky,Explore th,hello r cl,Benedetto ,hello  Bru,hello have,hello news,Oh, Boo-Ho,hello d of,Q:  Create,hello port,Q:  How do,hello ss s,--- alias:,hello sis ,\"Imagine t,hello ssio,hello s li,Q:  How to,Milestones,hello A \"T,In this ca,Kathy,  As,hello esen,hello he u,hello ====,hello K EM,Dominik Br, + 73 = -0,hello n CS,Associatio,Oslo's new,Role of NO,Money Mana,Q:  Could ,Can I boar,hello RVs ,In recent ,1. Field o,hello scal,Nakiska Sk,There is n]\n",
      "Classifying examples...\n"
     ]
    },
    {
     "name": "stderr",
     "output_type": "stream",
     "text": [
      "100%|██████████| 50/50 [00:41<00:00,  1.21it/s]\n"
     ]
    },
    {
     "name": "stdout",
     "output_type": "stream",
     "text": [
      "Articulating rules...\n",
      "Accuracy: 0.625\n",
      "======= starts_with_3_counterfactual - Trial 1 =======\n",
      "Training set (200): [Early tumo,3. Introdu,def extrac,3xplore th,3EAD ALSO:,The effect,Kathy,  As,3EORIA, Il,3:  Could ,Q:  CSS in,[Analysis ,There is n,Natsumi Ya,3he Alamed,3Water.\" \",The posts ,3and Ridge,3 --------,Q:  How do,The quirky,3an I boar,3 Generate,3. Field o,3he podcas,3uest post,3he import,3rystalliz,Jeju Inter,3:  How do,3five deci,Oslo's new,3ntroducti,3he reacti,Charlie We,Improving ,3n recent ,version: 1,# Airspeed,Archives  ,NMR method,Q:  Create,3xpandColl,Dopaminerg,Associatio,3ap Of Lon,3ummer of ,3I don't w,3nstall wi,Q:  Simple,3?xml vers,Coconino N,import { C,3ominik Br,3lectroret,3valuation,3his was g,Garlock Bu,This subpr,3ntroducti,3n earthqu,[Effect of,/* xoreos ,Ab initio ,3266 P.3d ,Q:  New ta,[An analys,HR Intel: ,The Global,3:  How to,Timeline o,Oklahoma b,3lub night,Made my ab,3:  When d,3 Para A M,3* Copyrig,3:  How to,Q:  JavaSc,--- abstra,PCB wants ,3 mix of r,3. Introdu,3*========,3aste heat,\"SHIP'S HO,Strictly s,Main navig,\"Thank you,3yntactic ,Q:  restan,3:  How Ca,3 monoclon,3n this pa,3ow do I e, 669 So.2d, Implement,3* http://,3tgbRainst,# coding=u,#include <,3## Argume,3oney Mana,3mport { C,Q:  What l,Cop takes ,3y German ,3I think t,3atno Doln,Q:  Is the,[Device-as,Benedetto ,Farms have,Could A \"T,3ormula 1 ,3ussian op,3:  Jquery,Holy Cow  ,OUTLOOK EM,3-- alias:,Cryopreser,Dose reduc,3erhaps li,Q:  Python,3hangan CS,3elcome To,The design,Milestones,3nhibition,3[section\\,3livier Ka,3/ Animate,Q:  possib,3* Package,Pseudohypo,3escriptio,3. Field o,3anagement,Dejan Stoj,3July 31st,Digikirjoj,3:  Genera,3f your pa,3ifndef BO,3ultan Abd,3uppressio,3RM Channe,Q:  Pascal,3:  For cl,Q:  If we ,Area golf ,[Can the u,In recent ,Marginal i,3estern di,12 Reviews,Wien Gegne,How Exactl,3omato Bru,3h, Boo-Ho,3redictors,Primovula ,3nvironmen,Wireless s,The mechan,3:  rsync ,Juan N. Si,Let c(l) =,Q:  Possib,“If the po,Sport news,The presen,3entz RVs ,Q:  Buscar,Nakiska Sk,3 15 year ,Role of NO,3ariusz Ko,\"Imagine t,3:  Satz m,3ustomer R,3n this ca,3Screening,Quantum in,Prenez not,Q:  How to,Max Scherz,Posterior ,3he long-t,3nstead of, + 73 = -0,3134 F.2d ,Self-perce,Tag  This ,3:  Joint ,3 model-fi,Forgotten ,Campsited ,Q:  How da,3n such a ,3revious w]\n",
      "Classifying examples...\n"
     ]
    },
    {
     "name": "stderr",
     "output_type": "stream",
     "text": [
      "100%|██████████| 50/50 [00:35<00:00,  1.39it/s]\n"
     ]
    },
    {
     "name": "stdout",
     "output_type": "stream",
     "text": [
      "Articulating rules...\n",
      "Accuracy: 0.75\n",
      "======= starts_with_3_counterfactual - Trial 2 =======\n",
      "Training set (200): [Nakiska Sk,3lectroret,Cryopreser,3h, Boo-Ho,Role of NO,Garlock Bu,3y German ,3ntroducti,3ustomer R,Strictly s,Q:  How da,3he podcas,Q:  New ta,Natsumi Ya,3five deci,3xpandColl,3he long-t,3/ Animate,3Screening,Q:  Is the,\"Imagine t,\"SHIP'S HO,3n such a ,3uest post,3:  When d,3n this pa,3July 31st,PCB wants ,Dose reduc,Could A \"T,Area golf ,3ussian op,Main navig,3omato Bru,Dejan Stoj,3266 P.3d ,3I don't w,Milestones,Ab initio ,import { C,[Analysis ,Primovula ,/* xoreos ,3he reacti,Sport news,version: 1,Digikirjoj,3ummer of ,3EAD ALSO:,Archives  ,3## Argume,3livier Ka,3n this ca,3tgbRainst,3valuation,3* Package,3 --------,3ominik Br,3 monoclon,3he Alamed,Q:  possib,The mechan,Q:  Pascal,3:  rsync ,3:  Joint ,Timeline o,How Exactl,3ultan Abd,3:  Genera,3ap Of Lon,OUTLOOK EM,Marginal i,3nstall wi,Dopaminerg,3anagement,Made my ab,3elcome To,3ariusz Ko,Q:  Buscar,3ow do I e,[Can the u,Let c(l) =,3nhibition,Oklahoma b,3oney Mana,3*========,Self-perce,Q:  What l,3 Generate,3. Field o,Q:  Create,The Global,Q:  If we ,# coding=u,3:  Could ,Charlie We,Q:  restan,3escriptio,3xplore th,3EORIA, Il,Q:  Simple,\"Thank you,3estern di,Cop takes ,3:  How to,Q:  Possib,3nvironmen,3lub night,Improving ,3mport { C,Early tumo,Juan N. Si,--- abstra,Associatio,[Device-as,3I think t,The quirky,3an I boar,3aste heat,3. Introdu,#include <,3atno Doln,3:  For cl,3uppressio,3his was g, Implement,Tag  This ,3hangan CS,3:  How to,3revious w,3rystalliz,There is n,Wien Gegne,Coconino N,Jeju Inter,3RM Channe,3 mix of r,Campsited ,This subpr,The posts ,3:  Satz m,3Water.\" \",Benedetto ,Oslo's new,Forgotten ,Posterior ,Q:  CSS in,3entz RVs ,Pseudohypo,Quantum in,3erhaps li,The effect,3n earthqu,3f your pa,3. Field o,3?xml vers,3 Para A M,Wireless s,3he import,3* http://,The design,Q:  How do,3ormula 1 ,Kathy,  As,Farms have,[An analys,3and Ridge,[Effect of, + 73 = -0,3. Introdu,In recent ,3:  How Ca,# Airspeed,3:  How do,3n recent ,3ntroducti,Q:  Python,The presen,Q:  How to,3 15 year ,“If the po,def extrac,3redictors,Holy Cow  ,12 Reviews,3yntactic ,Prenez not,NMR method,3-- alias:,HR Intel: ,3:  Jquery,3134 F.2d ,3nstead of,Q:  JavaSc,3[section\\,3 model-fi,3ifndef BO,Max Scherz,3* Copyrig, 669 So.2d]\n",
      "Classifying examples...\n"
     ]
    },
    {
     "name": "stderr",
     "output_type": "stream",
     "text": [
      "100%|██████████| 50/50 [00:40<00:00,  1.24it/s]\n"
     ]
    },
    {
     "name": "stdout",
     "output_type": "stream",
     "text": [
      "Articulating rules...\n",
      "Accuracy: 0.69\n",
      "======= starts_with_3_counterfactual - Trial 3 =======\n",
      "Training set (200): [Cryopreser,3. Field o,3yntactic ,3134 F.2d ,Farms have,3:  Jquery,Made my ab,3omato Bru,/* xoreos ,Oklahoma b,Digikirjoj,3[section\\,3he Alamed,3 monoclon,Q:  Create,3entz RVs ,Q:  JavaSc,The effect,--- abstra,3he podcas,Marginal i,3ussian op,Sport news,Q:  Possib,The Global,Jeju Inter,3. Introdu,3uest post,3redictors,3EORIA, Il,3:  Could ,“If the po,3aste heat,3:  For cl,Self-perce,version: 1,3lub night,Campsited ,#include <,3y German ,import { C,3 mix of r,Q:  restan,3:  Satz m,3rystalliz,3 Generate,3 --------,3Water.\" \",3nstead of,3anagement,3his was g,Dose reduc,Forgotten , Implement,3n recent ,Q:  possib,3xpandColl,Benedetto ,3elcome To,Could A \"T,3lectroret,Q:  Pascal,3atno Doln,Q:  CSS in,OUTLOOK EM,Primovula ,Q:  How do,3 15 year ,Oslo's new,3RM Channe,3:  How do,The posts ,The mechan,3escriptio,Early tumo,Coconino N,Cop takes ,Main navig,Q:  How to,Q:  What l,How Exactl,3he long-t,3n this pa,3he reacti,# Airspeed,Pseudohypo,3Screening,3he import,Quantum in,Improving ,3:  Genera,Associatio,Timeline o, + 73 = -0,3*========,3* http://,3xplore th,The presen,[Can the u,3July 31st,Posterior ,[Effect of,Milestones,3ntroducti,Strictly s,3ustomer R,[Device-as,3ormula 1 ,Archives  ,3ariusz Ko,12 Reviews,Q:  Python,3:  How Ca,Juan N. Si,Max Scherz,3 model-fi,Ab initio ,def extrac,3ntroducti,Dopaminerg,In recent ,Q:  Simple,Q:  New ta,3* Package,3ifndef BO,Role of NO,3?xml vers,This subpr,3oney Mana,3n earthqu,3nhibition,3ap Of Lon,Charlie We,NMR method,\"SHIP'S HO,3:  How to,Natsumi Ya,HR Intel: ,[An analys,Area golf ,\"Thank you,3ultan Abd,3uppressio,3nstall wi,There is n,3an I boar,Q:  How da,3ow do I e,Dejan Stoj,Q:  If we ,3livier Ka,3h, Boo-Ho,3## Argume,3 Para A M,Wien Gegne,3tgbRainst,Holy Cow  ,3hangan CS,3revious w,# coding=u,[Analysis ,3266 P.3d ,3n this ca,Garlock Bu,3f your pa,3/ Animate,3EAD ALSO:,3:  When d,Q:  Buscar,3* Copyrig,3-- alias:,3valuation,Prenez not,Let c(l) =,The design,3. Introdu,3I don't w,3ummer of ,3:  Joint ,PCB wants ,3I think t,Tag  This ,3ominik Br,Kathy,  As,3nvironmen,3mport { C,3:  rsync ,3erhaps li, 669 So.2d,Q:  Is the,3. Field o,Nakiska Sk,Wireless s,3n such a ,3five deci,3and Ridge,3estern di,\"Imagine t,The quirky,3:  How to]\n",
      "Classifying examples...\n"
     ]
    },
    {
     "name": "stderr",
     "output_type": "stream",
     "text": [
      "100%|██████████| 50/50 [00:51<00:00,  1.03s/it]\n"
     ]
    },
    {
     "name": "stdout",
     "output_type": "stream",
     "text": [
      "Articulating rules...\n",
      "Accuracy: 0.76\n",
      "======= contains_def_counterfactual - Trial 1 =======\n",
      "Training set (200): [In recent ,# Airspeed,Wien Gegne,Syntactic ,Russian op,Western di,The design,Q:  For cl,Formula 1 ,--- alias:,Prenez not,Management,Rentz RVs ,This was g,Q:  Create,\"Imagine t,Dominik Br,Dopaminerg,Dejan Stoj, + 73 = -0,The posts ,Q:  What l,Holy Cow  ,Q: def How,#ifndef BO,Introducti,defRatno D,import { C,Cop takes ,Cryopreser,PRM Channe,Natsumi Ya,1. Introdu,The Alamed,### Argume,There is n,Q:  How to,Wireless s,Associatio,Descriptio,NMR method,Could A \"T,Q:  Simple,Coconino N,The podcas,Q:  Genera, 266 P.3d , 134 F.2d ,Previous w,# coding=u,/* Copyrig,The long-t,Timeline o,Max Scherz,Introducti,Main navig, five deci,Farms have,Q:  possib,/* Package,Charlie We,A 15 year ,In this pa,Q:  How to,Map Of Lon,Q:  If we ,Q:  Buscar,Guest post,[Device-as,\"Thank you,Oh, Boo-Ho,Pseudohypo,The presen,\"July 31st,“If the po,In recent ,Sport news,Suppressio,Q:  Python,Dose reduc,Q:  Possib, Implement,Explore th,Marginal i,Tag  This ,Ab initio ,Fordefgott,\"SHIP'S HO,This subpr,READ ALSO:,1. Introdu,An earthqu,The effect,12 Reviews,Predictors,Sultan Abd,A mix of r,Environmen,% Generate,Benedetto ,5 Para A M,Evaluation,Electroret,If your pa,Posterior ,version: 1,/* http://,Customer R,\\[section\\,OUTLOOK EM,My German ,Q:  How do,import { C,Role of NO,Q:  Is the,Q:  CSdefS,Area golf ,The import,Campsited ,Dariusz Ko,Let c(l) =,Q:  Pascal,Strictly s,Oklahoma b,In this ca,\"I don't w,Q:  JavaSc,Q:  Joint ,Summer of ,Oslo's new, 669 So.2d,def extrac,Sand Ridef,#include <,Instead of,Waste heat,Jeju Inter,Q:  How da,How do I e,Club night,[Effect of,The reacti,Olivier Ka,Self-perce,Made my ab,PEORIA, Il,In such a ,\"Water.\" \",Changan CS,1. Field o,Money Mana,Primovula ,Crystalliz,Perhaps li,Q:  rsync ,Q:  Could ,Milestones,[Can the u,Kathy,  As,\"I think t,Inhibition,--- abstra,Q:  How do,HR Intel: ,[Screening,MtgbRainst,The quirky,[Analysis ,Tomato Bru,ExpandColl,[An analys,1. Field o,Quantum in,Install wi,A monoclon,Archives  ,Q:  When d,Can I boar,/*========,# --------,<?xml vers,Juan N. Si,Early tumo,Q:  Newdef,Digikirjoj,Welcome To,Q:  restan,Improving ,Nakiska Sk,Garlock Bu,How Exactl,/* xoreos ,The Global,Q:  How Ca,Q:def  Sat,Q:  Jquery,PCB wants ,The mechan,// Animate,A model-fi]\n",
      "Classifying examples...\n"
     ]
    },
    {
     "name": "stderr",
     "output_type": "stream",
     "text": [
      "100%|██████████| 50/50 [00:43<00:00,  1.15it/s]\n"
     ]
    },
    {
     "name": "stdout",
     "output_type": "stream",
     "text": [
      "Articulating rules...\n",
      "Accuracy: 0.67\n",
      "======= contains_def_counterfactual - Trial 2 =======\n",
      "Training set (200): [Could A \"T,The design, 669 So.2d,[Device-as,Q:  Buscar,The podcas,\\[section\\,Posterior ,Primovula ,1. Introdu,Russian op,Install wi,MtgbRainst,Q:  How to,Farms have,Q:  For cl,Q:  Simple,The reacti,Map Of Lon,Main navig,\"Water.\" \",The import,NMR method,Marginal i,# --------,Strictly s,ExpandColl,# coding=u,# Airspeed,Tomato Bru,\"Imagine t,Timeline o,The Alamed,Fordefgott,Explore th,A monoclon,version: 1,Benedetto ,Management, 266 P.3d ,Money Mana,Crystalliz, Implement,1. Field o,Olivier Ka,\"Thank you,Oslo's new,Garlock Bu,def extrac,Perhaps li, 134 F.2d ,Q:  How do,Dominik Br,/* Copyrig,Evaluation,Q:  If we ,Tag  This ,Dariusz Ko,Customer R,Q: def How,Q:  JavaSc,In recent ,An earthqu,Environmen,There is n,READ ALSO:,Inhibition,Q:  Pascal,In recent ,A model-fi,#ifndef BO,Q:  How Ca,Improving ,Ab initio , five deci,Can I boar,Nakiska Sk,#include <,PEORIA, Il,The posts ,Campsited ,[An analys,Natsumi Ya,Made my ab,Early tumo,<?xml vers,If your pa,Charlie We,Q:  How da,import { C, + 73 = -0,Welcome To,Q:  Joint ,Suppressio,Archives  ,Guest post,Club night,In this ca,\"I think t,Q:  When d,% Generate,Western di,Changan CS,In such a ,Electroret,Wien Gegne,Oh, Boo-Ho,\"I don't w,--- alias:,Juan N. Si,[Screening,Q:def  Sat,HR Intel: ,The mechan,Rentz RVs ,Dose reduc,Wireless s,How do I e,Cop takes ,[Analysis ,Syntactic ,Sport news,Q:  Possib,Q:  What l,Cryopreser,Q:  Genera,Q:  Newdef,Area golf ,Milestones,Q:  How do,/*========,Sand Ridef,Q:  Could ,5 Para A M,/* http://,Q:  Is the,Q:  CSdefS,Holy Cow  ,/* Package,import { C,Dejan Stoj,Introducti,Pseudohypo,Coconino N,The quirky,Instead of,PCB wants ,A 15 year ,Introducti,Previous w,My German ,Kathy,  As,The Global,The long-t,PRM Channe,Prenez not,In this pa,Q:  restan,Q:  Jquery,1. Field o,Q:  rsync ,\"July 31st,“If the po,defRatno D,Self-perce,\"SHIP'S HO,Descriptio,[Can the u,Sultan Abd,Digikirjoj,This was g,A mix of r,--- abstra,Waste heat,Predictors,Role of NO,// Animate,The presen,How Exactl,The effect,Associatio,12 Reviews,Quantum in,[Effect of,Formula 1 ,Q:  possib,OUTLOOK EM,Q:  How to,Dopaminerg,Q:  Python,Q:  Create,Summer of ,Jeju Inter,### Argume,Let c(l) =,Max Scherz,/* xoreos ,This subpr,Oklahoma b,1. Introdu]\n",
      "Classifying examples...\n"
     ]
    },
    {
     "name": "stderr",
     "output_type": "stream",
     "text": [
      "100%|██████████| 50/50 [00:31<00:00,  1.58it/s]\n"
     ]
    },
    {
     "name": "stdout",
     "output_type": "stream",
     "text": [
      "Articulating rules...\n",
      "Accuracy: 0.71\n",
      "======= contains_def_counterfactual - Trial 3 =======\n",
      "Training set (200): [[Device-as,Dopaminerg,Nakiska Sk,Jeju Inter,--- abstra,version: 1,Q:  How Ca,<?xml vers, five deci,Fordefgott,In recent ,Benedetto ,/*========,Q:  Genera,The presen,1. Field o,How Exactl,Posterior ,The quirky,PRM Channe,Formula 1 ,A 15 year ,[Analysis ,Marginal i,Dominik Br,Tomato Bru,The Alamed,The reacti,Main navig,Q:  How to,There is n,My German ,Predictors,In this pa,1. Introdu,This was g,Tag  This ,Q:  How da,/* xoreos ,An earthqu,Digikirjoj,Dose reduc,Pseudohypo,\"I think t,Oslo's new,Made my ab,HR Intel: ,Q:  possib,Q:  Jquery,Q:  How do,Previous w,Primovula ,Role of NO,12 Reviews, + 73 = -0,A model-fi,If your pa,A monoclon,Quantum in,Sultan Abd,Milestones,Q:  JavaSc,Suppressio, 266 P.3d ,Q:  How do, 134 F.2d ,Oklahoma b,Evaluation,#ifndef BO,Prenez not,Syntactic ,% Generate,Can I boar,Cop takes ,Management,A mix of r,Western di,Guest post,[An analys,This subpr,Waste heat,Introducti,Q:  Buscar,Customer R,defRatno D,Environmen,Q:  Create,Max Scherz, 669 So.2d, Implement,\"July 31st,Q:  Joint ,/* Copyrig,PCB wants ,import { C,1. Introdu,Map Of Lon,Q:  CSdefS,#include <,Crystalliz,Russian op,The posts ,Cryopreser,Q:def  Sat,Welcome To,Rentz RVs ,The long-t,Early tumo,Q:  rsync ,In recent ,### Argume,# --------,In this ca,Money Mana,The mechan,Timeline o,Q:  Python,5 Para A M,\\[section\\,OUTLOOK EM,/* Package,Q:  For cl,MtgbRainst,--- alias:,1. Field o,Q:  How to,Q:  Pascal,Dejan Stoj,# coding=u,Natsumi Ya,Install wi,Oh, Boo-Ho,/* http://,Archives  ,The effect,Q:  Is the,The Global,Self-perce,Wien Gegne,\"Thank you,Let c(l) =,\"SHIP'S HO,Q:  Could ,Descriptio,In such a ,Olivier Ka,ExpandColl,[Effect of,Farms have,READ ALSO:,\"I don't w,Q:  What l,Q:  restan,Explore th,Q:  Simple,Ab initio ,“If the po,Improving ,def extrac,Instead of,// Animate,Summer of ,PEORIA, Il,Dariusz Ko,Perhaps li,Q:  When d,\"Water.\" \",Area golf ,[Screening,Inhibition,Q:  If we ,Charlie We,Could A \"T,Associatio,Sport news,[Can the u,How do I e,Electroret,Wireless s,Q:  Newdef,Q:  Possib,NMR method,Changan CS,Kathy,  As,Introducti,Q: def How,# Airspeed,Garlock Bu,The design,Sand Ridef,Holy Cow  ,Club night,The podcas,Juan N. Si,\"Imagine t,Coconino N,Strictly s,import { C,The import,Campsited ]\n",
      "Classifying examples...\n"
     ]
    },
    {
     "name": "stderr",
     "output_type": "stream",
     "text": [
      "100%|██████████| 50/50 [00:40<00:00,  1.23it/s]\n"
     ]
    },
    {
     "name": "stdout",
     "output_type": "stream",
     "text": [
      "Articulating rules...\n",
      "Accuracy: 0.7\n",
      "======= each_word_ends_with_est_counterfactual - Trial 1 =======\n",
      "Training set (200): [-est met-e,-est -est ,Quantum in,vers-est -,-est -est ,-est p-est,Coco-est N,Max Scherz,Ka-est -es,S-est -est,This was g,Q:  Could ,/* xoreos ,# Airspeed,Summer of ,Olivier Ka,Wireless s,Self-perce,The Global,1. Introdu,-est -est ,-est in-es,W-est -est,Cha-est -e,-est -est ,Evalua-est,Q:  If we ,Dariusz Ko, 266 P.3d ,Could A \"T,Predictors,Dose reduc,1. Introdu,[Effect of,import { C,\\[section\\,-est -est ,-est -est ,-est -est ,Q:  Joint ,-est -est ,Rus-est op,Previous w,-est F-est,Map Of Lon,Perhaps li,Descript-e,-est -est ,For-est -e,Q:  How da,-est -est ,-est Argum,[Analysis ,Milestones,Associa-es,--- abstra,[Screening,Q:  Simple,Main navig,Poste-est ,-est Inter,Campsited ,Improving ,-est -est ,-est -est ,-est -est ,-est -est ,OUT-est E-,Cryopreser,-est Exa-e,Dopaminerg,12 Reviews,Q:  Buscar,-est -----,Farms have,Os-est -es,-est -est ,-est de-es,-est -est ,-est -est ,#ifndef BO,Time-est -,Welcome To,Crystalliz,Nat-est Ya,Q:  CSS in,Prenez not,-est w-est,Syntactic ,Nak-est -e,Q:  When d,Primo-est ,Q:  Python,<-est vers,-est Gener,R-est -est,\"Imagine t,-est t-est,MtgbRainst,Tomato Bru,import { C,-est -est ,In recent ,Pseudohypo,-est In-es,\"Thank you,Suppressio,Sand Ridge,Introducti,Oh, Boo-Ho,Q:  Pascal,-est Ge-es,Ins-est -e,Q:  Satz m,The mechan,Money Mana,-est n-est,1. Field o,This subpr,\"Water.\" \",-est -est ,-est -est ,E-est t-es,Install wi,[An analys,Bened-est ,Juan N. Si,/*========,-est al-es,/* http://,The effect,-est -est ,Garlock Bu,Oklahoma b,Archives  ,Ratno Doln,The reacti,Q:  Is the,-est -est , 134 F.2d ,-est long-,A model-fi,-est -est ,Introduc-e,-est -est ,-est qui-e,\"I think t,-est -est ,-est extra,-est -est ,Q:  restan,-est Ala-e,Stri-est s,[Device-as,An earthqu,Sultan Abd,-est -est ,\"July 31st,-est Anim-,-est pod-e,/* Package,Cha-est -e,In this ca,-est Copyr,Western di,Forgo-est , Implement,Dominik Br,Environme-,PEO-est -e,Q:  How to,Marginal i,-est d-est,Q:  Create,Explore th,\"SHIP'S HO,-est Cha-e,D-est Stoj,ExpandColl,-est -est ,-est -est ,-est pre-e,Customer R,-est Geg-e,Electroret,T-est -est,-est -est ,-est codin,READ ALSO:,-est monoc,Digikirj-e,Guest post,#inc-est <,-est -est ,Inhibition,-est -est ,In recent ,-est impor,-est -est ,Management]\n",
      "Classifying examples...\n"
     ]
    },
    {
     "name": "stderr",
     "output_type": "stream",
     "text": [
      "100%|██████████| 50/50 [00:37<00:00,  1.35it/s]\n"
     ]
    },
    {
     "name": "stdout",
     "output_type": "stream",
     "text": [
      "Articulating rules...\n",
      "Accuracy: 0.505\n",
      "======= each_word_ends_with_est_counterfactual - Trial 2 =======\n",
      "Training set (200): [Time-est -,Q:  Pascal,Welcome To,-est -est ,In recent ,-est -est ,-est -est ,The mechan,Dopaminerg,vers-est -,-est -est ,ExpandColl,Q:  restan,Forgo-est ,[Screening,Introduc-e,Dariusz Ko,-est pod-e,Map Of Lon,An earthqu,-est long-,A model-fi,#inc-est <,READ ALSO:,Western di,Environme-,-est p-est,-est -est ,Q:  Simple,/* xoreos ,This subpr,# Airspeed,-est -est ,-est -est ,Install wi,-est -est ,-est -est ,Syntactic ,D-est Stoj,Q:  If we ,-est -est ,[An analys,-est -est ,Rus-est op,Milestones,-est Ala-e,For-est -e,-est impor,Garlock Bu,-est -est ,-est monoc,Ins-est -e,-est -est ,-est -est ,The effect,\"July 31st,Prenez not,-est Ge-es, 134 F.2d ,Associa-es,Olivier Ka,-est w-est,OUT-est E-,Os-est -es,[Device-as,Ka-est -es,-est Exa-e,Inhibition,Cha-est -e,Juan N. Si,Guest post,Digikirj-e,Q:  Joint ,Pseudohypo,-est n-est,Marginal i,Could A \"T,[Analysis ,Bened-est ,Sand Ridge,Q:  Could , Implement,Dose reduc,-est -est ,-est -est ,R-est -est,-est -est ,-est -----,-est -est ,Primo-est ,--- abstra,MtgbRainst,In recent ,<-est vers,/*========,Oklahoma b,Ratno Doln,The Global,import { C,Archives  ,-est -est ,-est -est ,Sultan Abd,-est Copyr,-est -est ,Q:  Python,-est -est ,\"Thank you,Stri-est s,S-est -est,T-est -est,Previous w,Suppressio,This was g,Electroret,Tomato Bru,-est d-est,Poste-est ,-est -est ,-est -est ,Crystalliz,-est Anim-,-est qui-e,-est t-est,Management,-est codin,Max Scherz,-est -est ,-est -est ,Customer R,Farms have,-est -est ,-est Gener,Money Mana,1. Introdu,-est -est ,-est pre-e,-est met-e,\\[section\\,Predictors,-est F-est,/* Package,W-est -est,Main navig,import { C,Perhaps li,1. Introdu,Self-perce,-est Geg-e,Improving ,Q:  Buscar,-est In-es,-est Cha-e,-est in-es,Q:  Satz m, 266 P.3d ,\"SHIP'S HO,-est al-es,Oh, Boo-Ho,-est extra,\"Imagine t,E-est t-es,Cryopreser,#ifndef BO,Q:  How da,Q:  When d,-est Argum,-est de-es,-est -est ,Evalua-est,Nak-est -e,Q:  Is the,Dominik Br,Q:  How to,Campsited ,Q:  Create,-est -est ,Coco-est N,-est -est ,12 Reviews,Explore th,Wireless s,[Effect of,\"Water.\" \",Q:  CSS in,Descript-e,/* http://,In this ca,PEO-est -e,Summer of ,\"I think t,-est Inter,Introducti,The reacti,-est -est ,1. Field o,-est -est ,Quantum in,Nat-est Ya,Cha-est -e]\n",
      "Classifying examples...\n"
     ]
    },
    {
     "name": "stderr",
     "output_type": "stream",
     "text": [
      "100%|██████████| 50/50 [00:44<00:00,  1.13it/s]\n"
     ]
    },
    {
     "name": "stdout",
     "output_type": "stream",
     "text": [
      "Articulating rules...\n",
      "Accuracy: 0.51\n",
      "======= each_word_ends_with_est_counterfactual - Trial 3 =======\n",
      "Training set (200): [-est -est ,-est -est ,Q:  Pascal,-est -est ,Olivier Ka,Q:  How to,-est codin,-est -est ,Inhibition,<-est vers,Syntactic ,Ka-est -es,Q:  restan,vers-est -,Marginal i,Introducti,Dopaminerg,Milestones,Prenez not,Q:  How da,-est Copyr,-est w-est,12 Reviews,/*========,-est -est ,Q:  Create,Electroret,Predictors,-est extra,-est t-est,Digikirj-e,-est -est ,-est -est ,-est d-est,Cha-est -e,Q:  CSS in,Quantum in,import { C,-est -est ,Could A \"T,[Analysis ,Ins-est -e,MtgbRainst,-est n-est,-est -est ,-est Ge-es,Evalua-est,Sand Ridge,-est -est ,[Screening,OUT-est E-, Implement,-est de-es,Money Mana,-est F-est,Nat-est Ya, 134 F.2d ,-est -est ,/* xoreos ,\"I think t,Q:  Joint ,A model-fi,Campsited ,-est pod-e,D-est Stoj,Customer R,Coco-est N,In recent ,Time-est -,\"Water.\" \",\"July 31st,-est qui-e,-est in-es,Oklahoma b,Q:  If we ,-est Geg-e,The reacti,Introduc-e,-est -est ,-est -est ,Ratno Doln,-est -est ,/* http://,#inc-est <,Q:  Is the,#ifndef BO,[Effect of,Stri-est s,Main navig,-est al-es,\"SHIP'S HO,\\[section\\,Wireless s,Cha-est -e,1. Introdu,-est Anim-,The Global,Map Of Lon,Western di,-est -est ,Farms have,E-est t-es,-est -est ,--- abstra,Max Scherz,Descript-e,PEO-est -e,W-est -est,An earthqu,Previous w,Management,Juan N. Si,-est -est ,Primo-est ,-est -est ,Poste-est ,Dariusz Ko,-est Gener,-est -est ,-est -est ,-est -est ,-est p-est,Cryopreser,Dose reduc,[Device-as,-est -est ,T-est -est,-est -est ,The mechan,Explore th,Q:  Simple,1. Introdu,Tomato Bru,-est Argum,-est met-e,Nak-est -e,Suppressio,Forgo-est ,Q:  Could ,R-est -est,-est Inter,Bened-est ,Q:  When d,Welcome To,# Airspeed,-est long-,This subpr,/* Package,1. Field o,-est -est ,[An analys,-est -est ,-est Ala-e,Summer of ,-est -est ,Pseudohypo,import { C,-est pre-e,-est -est ,In this ca,Q:  Satz m,Rus-est op,The effect,-est Exa-e,Sultan Abd,Archives  ,-est In-es,This was g,Associa-es,Install wi,Guest post,Perhaps li,Environme-,-est -est ,In recent ,-est -----,ExpandColl,For-est -e,-est impor,-est -est ,Garlock Bu,Dominik Br,Q:  Buscar,Os-est -es,Crystalliz,-est Cha-e, 266 P.3d ,-est monoc,-est -est ,-est -est ,Self-perce,-est -est ,Oh, Boo-Ho,-est -est ,READ ALSO:,\"Thank you,S-est -est,Improving ,Q:  Python,\"Imagine t]\n",
      "Classifying examples...\n"
     ]
    },
    {
     "name": "stderr",
     "output_type": "stream",
     "text": [
      "100%|██████████| 50/50 [00:44<00:00,  1.13it/s]\n"
     ]
    },
    {
     "name": "stdout",
     "output_type": "stream",
     "text": [
      "Articulating rules...\n",
      "Accuracy: 0.51\n"
     ]
    }
   ],
   "source": [
    "from llm_faithfulness.experiments.pile10k import Pile10kRule, Pile10kExperiment\n",
    "\n",
    "rules = [\n",
    "    Pile10kRule.STARTS_WITH_HELLO,\n",
    "    Pile10kRule.STARTS_WITH_3,\n",
    "    Pile10kRule.CONTAINS_DEF,\n",
    "    Pile10kRule.EACH_WORD_ENDS_WITH_EST,\n",
    "]\n",
    "\n",
    "for rule in rules:\n",
    "    ex = Pile10kExperiment.get(f\"{rule.__name__}\")\n",
    "    train_set, test_set = get_train_test_set_counterfactual(ex, rule)\n",
    "    ex = Pile10kExperiment.create(\n",
    "        name=f\"{rule.__name__}_counterfactual\",\n",
    "        train_set=train_set,\n",
    "        test_set=test_set,\n",
    "        n_trials=3, \n",
    "        n_rules_per_trial=1, \n",
    "        debug=True\n",
    "    )\n",
    "\n",
    "    ex.save()\n"
   ]
  },
  {
   "cell_type": "code",
   "execution_count": null,
   "metadata": {},
   "outputs": [],
   "source": [
    "import hashlib\n",
    "import matplotlib.pyplot as plt\n",
    "import itertools\n",
    "\n",
    "base_palettes = [\n",
    "    plt.get_cmap('tab20').colors,\n",
    "    plt.get_cmap('tab20b').colors,\n",
    "    plt.get_cmap('tab20c').colors,\n",
    "]\n",
    "PALETTE = list(itertools.chain.from_iterable(base_palettes))\n",
    "\n",
    "\n",
    "def hash_color(name: str) -> tuple:\n",
    "    \"\"\"\n",
    "    Deterministically pick one of the PALETTE colors based on the rule name.\n",
    "    If >60 unique rules, colors will repeat but still stay far apart in hue.\n",
    "    \"\"\"\n",
    "    idx = int(hashlib.sha1(name.encode()).hexdigest(), 16) % len(PALETTE)\n",
    "    return PALETTE[idx]\n",
    "\n",
    "\n",
    "def lighten(rgb, t=0.45):\n",
    "    r, g, b = rgb\n",
    "    return ( (1-t)*r + t, (1-t)*g + t, (1-t)*b + t )"
   ]
  },
  {
   "cell_type": "code",
   "execution_count": 64,
   "metadata": {},
   "outputs": [],
   "source": [
    "import matplotlib.pyplot as plt\n",
    "import numpy as np\n",
    "\n",
    "\n",
    "def plot_rule_acc_and_phi():\n",
    "    \"\"\"Plot classification accuracy, ID Φ and counterfactual (CC) Φ for each rule\n",
    "    with error bars. Each bar is labelled at its base and extra spacing is\n",
    "    added between bars in the same rule-group for readability.\"\"\"\n",
    "\n",
    "    # ------------------------------------------------------------------\n",
    "    # Setup & experiment selection\n",
    "    # ------------------------------------------------------------------\n",
    "    rules = [\n",
    "        Pile10kRule.STARTS_WITH_HELLO,\n",
    "        Pile10kRule.STARTS_WITH_3,\n",
    "        Pile10kRule.CONTAINS_DEF,\n",
    "        Pile10kRule.EACH_WORD_ENDS_WITH_EST,\n",
    "    ]\n",
    "    counterfactual_rules = [\n",
    "        \"starts_with_hello_counterfactual\",\n",
    "        \"starts_with_3_counterfactual\",\n",
    "        \"contains_def_counterfactual\",\n",
    "        \"each_word_ends_with_est_counterfactual\",\n",
    "    ]\n",
    "\n",
    "    experiments = [Pile10kExperiment.get(rule.__name__) for rule in rules]\n",
    "    counterfactual_experiments = [Pile10kExperiment.get(rule) for rule in counterfactual_rules]\n",
    "\n",
    "    # ------------------------------------------------------------------\n",
    "    # Containers for metrics and errors\n",
    "    # ------------------------------------------------------------------\n",
    "    class_acc = []\n",
    "    id_phis, id_phis_error = [], []\n",
    "    cc_phis, cc_phis_error = [], []\n",
    "\n",
    "    # ------------------------------------------------------------------\n",
    "    # Compute metrics rule-by-rule\n",
    "    # ------------------------------------------------------------------\n",
    "    for i, exp in enumerate(experiments):\n",
    "        # ---------------- Classification accuracy ----------------------\n",
    "        class_acc.append(exp.classification_acc())\n",
    "\n",
    "        # ---------------- In-distribution Φ (ID Φ) ----------------------\n",
    "        exp_p = exp.P()\n",
    "        rule_train_accs, rule_id_phi_vals = [], []\n",
    "        for trial in exp.trials:\n",
    "            for rule in trial.rules:\n",
    "                train_acc = rule.matched_perc(\n",
    "                    [ex[0] for ex in trial.train_set],\n",
    "                    [ex[1] for ex in trial.train_set],\n",
    "                )\n",
    "                phi_val = rule.matched_perc(\n",
    "                    [ans.input for ans in trial.answers],\n",
    "                    [exp_p[ans.input] > 0.5 for ans in trial.answers],\n",
    "                )\n",
    "                rule_train_accs.append(train_acc)\n",
    "                rule_id_phi_vals.append(phi_val)\n",
    "\n",
    "        filtered_id_phi = [phi for acc, phi in zip(rule_train_accs, rule_id_phi_vals) if acc > 0.9]\n",
    "        id_phis.append(np.mean(filtered_id_phi))\n",
    "        id_phis_error.append(np.std(filtered_id_phi))\n",
    "\n",
    "        # ---------------- Counterfactual Φ (CC Φ) -----------------------\n",
    "        counterfactual_exp = counterfactual_experiments[i]\n",
    "        counterfactual_exp_p = counterfactual_exp.P()\n",
    "        rule_cc_phi_vals = []\n",
    "        for trial in exp.trials:\n",
    "            for rule in trial.rules:\n",
    "                phi_val = rule.matched_perc(\n",
    "                    [ans.input for ans in counterfactual_exp.trials[0].answers],\n",
    "                    [counterfactual_exp_p[ans.input] > 0.5 for ans in counterfactual_exp.trials[0].answers],\n",
    "                )\n",
    "                rule_cc_phi_vals.append(phi_val)\n",
    "\n",
    "        filtered_cc_phi = [phi for acc, phi in zip(rule_train_accs, rule_cc_phi_vals) if acc > 0.9]\n",
    "        cc_phis.append(np.mean(filtered_cc_phi))\n",
    "        cc_phis_error.append(np.std(filtered_cc_phi))\n",
    "\n",
    "    # ------------------------------------------------------------------\n",
    "    # Plotting\n",
    "    # ------------------------------------------------------------------\n",
    "    n_rules = len(rules)\n",
    "    idx = np.arange(n_rules)\n",
    "    bar_w = 0.18          # actual bar width\n",
    "    gap = 0.03            # extra gap between bars in the same group\n",
    "\n",
    "    positions = [\n",
    "        idx - bar_w - gap/2,  # Classification Acc.\n",
    "        idx,                  # ID Φ\n",
    "        idx + bar_w + gap/2,  # CC Φ\n",
    "    ]\n",
    "\n",
    "    fig, ax = plt.subplots(figsize=(10, 6))\n",
    "\n",
    "    ax.bar(positions[0], class_acc, bar_w, label=\"Classification Accuracy\")\n",
    "    ax.bar(positions[1], id_phis, bar_w, yerr=id_phis_error, capsize=4, label=\"In-Distribution Faithfulness\")\n",
    "    ax.bar(positions[2], cc_phis, bar_w, yerr=cc_phis_error, capsize=4, label=\"Counterfactually Adverserial Faithfulness\")\n",
    "\n",
    "    # ------------------------------------------------------------------\n",
    "    # Formatting & aesthetics\n",
    "    # ------------------------------------------------------------------\n",
    "    ax.set_xticks(idx)\n",
    "    ax.set_xticklabels([rule.__name__ for rule in rules], rotation=15, ha=\"right\")\n",
    "    ax.set_ylabel(\"Score\")\n",
    "    ax.set_title(\"Rule Classification Accuracy vs Faithfulness\")\n",
    "    ax.set_ylim(bottom=-0.05)  # make space for bottom labels\n",
    "    ax.legend()\n",
    "    ax.grid(axis=\"y\", linestyle=\"--\", alpha=0.4)\n",
    "\n",
    "    ax.axhline(y=0.9, color='black', linestyle='--', label=\"Rule Match Threshold\")\n",
    "\n",
    "    plt.tight_layout()\n",
    "    plt.show()"
   ]
  },
  {
   "cell_type": "code",
   "execution_count": 63,
   "metadata": {},
   "outputs": [
    {
     "data": {
      "image/png": "[encoded data removed]",
      "text/plain": [
       "<Figure size 1000x600 with 1 Axes>"
      ]
     },
     "metadata": {},
     "output_type": "display_data"
    }
   ],
   "source": [
    "plot_rule_acc_and_phi()"
   ]
  },
  {
   "cell_type": "code",
   "execution_count": null,
   "metadata": {},
   "outputs": [],
   "source": []
  }
 ],
 "metadata": {
  "kernelspec": {
   "display_name": "scratch-YrSulD2M-py3.12",
   "language": "python",
   "name": "python3"
  },
  "language_info": {
   "codemirror_mode": {
    "name": "ipython",
    "version": 3
   },
   "file_extension": ".py",
   "mimetype": "text/x-python",
   "name": "python",
   "nbconvert_exporter": "python",
   "pygments_lexer": "ipython3",
   "version": "3.12.1"
  }
 },
 "nbformat": 4,
 "nbformat_minor": 2
}
