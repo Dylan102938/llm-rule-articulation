{
 "cells": [
  {
   "cell_type": "code",
   "execution_count": 1,
   "metadata": {},
   "outputs": [
    {
     "data": {
      "text/plain": [
       "True"
      ]
     },
     "execution_count": 1,
     "metadata": {},
     "output_type": "execute_result"
    }
   ],
   "source": [
    "from dotenv import load_dotenv\n",
    "\n",
    "load_dotenv()"
   ]
  },
  {
   "cell_type": "code",
   "execution_count": 2,
   "metadata": {},
   "outputs": [
    {
     "name": "stderr",
     "output_type": "stream",
     "text": [
      "/Users/dylanfeng/Library/Caches/pypoetry/virtualenvs/scratch-YrSulD2M-py3.12/lib/python3.12/site-packages/tqdm/auto.py:21: TqdmWarning: IProgress not found. Please update jupyter and ipywidgets. See https://ipywidgets.readthedocs.io/en/stable/user_install.html\n",
      "  from .autonotebook import tqdm as notebook_tqdm\n"
     ]
    }
   ],
   "source": [
    "from datasets import load_dataset\n",
    "\n",
    "dataset = load_dataset(\"NeelNanda/pile-10k\", split=\"train\")"
   ]
  },
  {
   "cell_type": "code",
   "execution_count": 3,
   "metadata": {},
   "outputs": [
    {
     "data": {
      "text/html": [
       "<div>\n",
       "<style scoped>\n",
       "    .dataframe tbody tr th:only-of-type {\n",
       "        vertical-align: middle;\n",
       "    }\n",
       "\n",
       "    .dataframe tbody tr th {\n",
       "        vertical-align: top;\n",
       "    }\n",
       "\n",
       "    .dataframe thead th {\n",
       "        text-align: right;\n",
       "    }\n",
       "</style>\n",
       "<table border=\"1\" class=\"dataframe\">\n",
       "  <thead>\n",
       "    <tr style=\"text-align: right;\">\n",
       "      <th></th>\n",
       "      <th>text</th>\n",
       "      <th>meta</th>\n",
       "      <th>text_trunc</th>\n",
       "    </tr>\n",
       "  </thead>\n",
       "  <tbody>\n",
       "    <tr>\n",
       "      <th>0</th>\n",
       "      <td>It is done, and submitted. You can play “Survi...</td>\n",
       "      <td>{'pile_set_name': 'Pile-CC'}</td>\n",
       "      <td>It is done, and submitted. You can play “Survi...</td>\n",
       "    </tr>\n",
       "    <tr>\n",
       "      <th>1</th>\n",
       "      <td>&lt;?xml version=\"1.0\" encoding=\"UTF-8\"?&gt;\\r\\n&lt;seg...</td>\n",
       "      <td>{'pile_set_name': 'Github'}</td>\n",
       "      <td>&lt;?xml version=\"1.0\" encoding=\"UTF-8\"?&gt;\\r &lt;segm...</td>\n",
       "    </tr>\n",
       "    <tr>\n",
       "      <th>2</th>\n",
       "      <td>Article content\\n\\nHuman behavior has a tremen...</td>\n",
       "      <td>{'pile_set_name': 'OpenWebText2'}</td>\n",
       "      <td>Article content  Human behavior has a tremendo...</td>\n",
       "    </tr>\n",
       "    <tr>\n",
       "      <th>3</th>\n",
       "      <td>Topic: reinvent midnight madness\\n\\nAmazon ann...</td>\n",
       "      <td>{'pile_set_name': 'Pile-CC'}</td>\n",
       "      <td>Topic: reinvent midnight madness  Amazon annou...</td>\n",
       "    </tr>\n",
       "    <tr>\n",
       "      <th>4</th>\n",
       "      <td>About Grand Slam Fishing Charters\\n\\nAs a fami...</td>\n",
       "      <td>{'pile_set_name': 'Pile-CC'}</td>\n",
       "      <td>About Grand Slam Fishing Charters  As a family...</td>\n",
       "    </tr>\n",
       "    <tr>\n",
       "      <th>...</th>\n",
       "      <td>...</td>\n",
       "      <td>...</td>\n",
       "      <td>...</td>\n",
       "    </tr>\n",
       "    <tr>\n",
       "      <th>9995</th>\n",
       "      <td>Minecraft was officially updated to 1.13 today...</td>\n",
       "      <td>{'pile_set_name': 'Pile-CC'}</td>\n",
       "      <td>Minecraft was officially updated to 1.13 today...</td>\n",
       "    </tr>\n",
       "    <tr>\n",
       "      <th>9996</th>\n",
       "      <td>\\r\\n\\r\\nPeople v Vidro (2017 NY Slip Op 01975)...</td>\n",
       "      <td>{'pile_set_name': 'FreeLaw'}</td>\n",
       "      <td>\\r \\r People v Vidro (2017 NY Slip Op 01975)\\r...</td>\n",
       "    </tr>\n",
       "    <tr>\n",
       "      <th>9997</th>\n",
       "      <td>396 primarily to supply hamburgers for the bur...</td>\n",
       "      <td>{'pile_set_name': 'Pile-CC'}</td>\n",
       "      <td>396 primarily to supply hamburgers for the bur...</td>\n",
       "    </tr>\n",
       "    <tr>\n",
       "      <th>9998</th>\n",
       "      <td>Daniel Garodnick\\n\\nDaniel Garodnick (born May...</td>\n",
       "      <td>{'pile_set_name': 'Wikipedia (en)'}</td>\n",
       "      <td>Daniel Garodnick  Daniel Garodnick (born May 5...</td>\n",
       "    </tr>\n",
       "    <tr>\n",
       "      <th>9999</th>\n",
       "      <td>Antibiotic resistant bacterial infections caus...</td>\n",
       "      <td>{'pile_set_name': 'NIH ExPorter'}</td>\n",
       "      <td>Antibiotic resistant bacterial infections caus...</td>\n",
       "    </tr>\n",
       "  </tbody>\n",
       "</table>\n",
       "<p>10000 rows × 3 columns</p>\n",
       "</div>"
      ],
      "text/plain": [
       "                                                   text  \\\n",
       "0     It is done, and submitted. You can play “Survi...   \n",
       "1     <?xml version=\"1.0\" encoding=\"UTF-8\"?>\\r\\n<seg...   \n",
       "2     Article content\\n\\nHuman behavior has a tremen...   \n",
       "3     Topic: reinvent midnight madness\\n\\nAmazon ann...   \n",
       "4     About Grand Slam Fishing Charters\\n\\nAs a fami...   \n",
       "...                                                 ...   \n",
       "9995  Minecraft was officially updated to 1.13 today...   \n",
       "9996  \\r\\n\\r\\nPeople v Vidro (2017 NY Slip Op 01975)...   \n",
       "9997  396 primarily to supply hamburgers for the bur...   \n",
       "9998  Daniel Garodnick\\n\\nDaniel Garodnick (born May...   \n",
       "9999  Antibiotic resistant bacterial infections caus...   \n",
       "\n",
       "                                     meta  \\\n",
       "0            {'pile_set_name': 'Pile-CC'}   \n",
       "1             {'pile_set_name': 'Github'}   \n",
       "2       {'pile_set_name': 'OpenWebText2'}   \n",
       "3            {'pile_set_name': 'Pile-CC'}   \n",
       "4            {'pile_set_name': 'Pile-CC'}   \n",
       "...                                   ...   \n",
       "9995         {'pile_set_name': 'Pile-CC'}   \n",
       "9996         {'pile_set_name': 'FreeLaw'}   \n",
       "9997         {'pile_set_name': 'Pile-CC'}   \n",
       "9998  {'pile_set_name': 'Wikipedia (en)'}   \n",
       "9999    {'pile_set_name': 'NIH ExPorter'}   \n",
       "\n",
       "                                             text_trunc  \n",
       "0     It is done, and submitted. You can play “Survi...  \n",
       "1     <?xml version=\"1.0\" encoding=\"UTF-8\"?>\\r <segm...  \n",
       "2     Article content  Human behavior has a tremendo...  \n",
       "3     Topic: reinvent midnight madness  Amazon annou...  \n",
       "4     About Grand Slam Fishing Charters  As a family...  \n",
       "...                                                 ...  \n",
       "9995  Minecraft was officially updated to 1.13 today...  \n",
       "9996  \\r \\r People v Vidro (2017 NY Slip Op 01975)\\r...  \n",
       "9997  396 primarily to supply hamburgers for the bur...  \n",
       "9998  Daniel Garodnick  Daniel Garodnick (born May 5...  \n",
       "9999  Antibiotic resistant bacterial infections caus...  \n",
       "\n",
       "[10000 rows x 3 columns]"
      ]
     },
     "execution_count": 3,
     "metadata": {},
     "output_type": "execute_result"
    }
   ],
   "source": [
    "pile_df = dataset.to_pandas()\n",
    "pile_df[\"text_trunc\"] = pile_df[\"text\"].map(lambda x: x[:100].replace(\"\\n\", \" \"))\n",
    "pile_df"
   ]
  },
  {
   "cell_type": "code",
   "execution_count": 4,
   "metadata": {},
   "outputs": [],
   "source": [
    "pile_train, pile_test = pile_df.iloc[:8000], pile_df.iloc[8000:]"
   ]
  },
  {
   "cell_type": "code",
   "execution_count": null,
   "metadata": {},
   "outputs": [],
   "source": []
  }
 ],
 "metadata": {
  "kernelspec": {
   "display_name": "scratch-YrSulD2M-py3.12",
   "language": "python",
   "name": "python3"
  },
  "language_info": {
   "codemirror_mode": {
    "name": "ipython",
    "version": 3
   },
   "file_extension": ".py",
   "mimetype": "text/x-python",
   "name": "python",
   "nbconvert_exporter": "python",
   "pygments_lexer": "ipython3",
   "version": "3.12.1"
  }
 },
 "nbformat": 4,
 "nbformat_minor": 2
}
